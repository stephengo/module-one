{
 "cells": [
  {
   "cell_type": "markdown",
   "metadata": {
    "slideshow": {
     "slide_type": "slide"
    }
   },
   "source": [
    "<h2>Data Science at GT</h2>"
   ]
  },
  {
   "cell_type": "markdown",
   "metadata": {
    "slideshow": {
     "slide_type": "fragment"
    }
   },
   "source": [
    "<h3>09/27 - Finding & Cleaning Data</h3>"
   ]
  },
  {
   "cell_type": "markdown",
   "metadata": {
    "slideshow": {
     "slide_type": "slide"
    }
   },
   "source": [
    "<h2>Agenda</h2>\n"
   ]
  },
  {
   "cell_type": "markdown",
   "metadata": {
    "slideshow": {
     "slide_type": "subslide"
    }
   },
   "source": [
    "<ul>\n",
    "<li>Gathering Data</li>\n",
    "<li>Cleaning Data</li>\n",
    "<li>Group Activity</li>\n",
    "<li>Announcements</li>\n",
    "</ul>"
   ]
  },
  {
   "cell_type": "markdown",
   "metadata": {
    "slideshow": {
     "slide_type": "slide"
    }
   },
   "source": [
    "<h2>Gathering Data</h3>"
   ]
  },
  {
   "cell_type": "markdown",
   "metadata": {
    "slideshow": {
     "slide_type": "subslide"
    }
   },
   "source": [
    "<h3>Some channels to use when looking for data include:</h3>\n",
    "<ul>\n",
    "<li>Open Data Projects</li>\n",
    "<li>APIs </li>\n",
    "<li>Web Scraping</li>\n",
    "<li>Creating Data</li>\n",
    "</ul>"
   ]
  },
  {
   "cell_type": "markdown",
   "metadata": {
    "slideshow": {
     "slide_type": "subslide"
    }
   },
   "source": [
    "<h2>What is Open Data?</h2>"
   ]
  },
  {
   "cell_type": "markdown",
   "metadata": {
    "slideshow": {
     "slide_type": "fragment"
    }
   },
   "source": [
    "<ul><li>Collections of data sources and warehouses made available to the public</li> <li>Developed by governments, corporations, and research groups with the hope that others can extract value from them</li>\n",
    "<li>Generally well documented and formatted</li>\n",
    "</ul>"
   ]
  },
  {
   "cell_type": "markdown",
   "metadata": {
    "slideshow": {
     "slide_type": "slide"
    }
   },
   "source": [
    "<h3>Government</h3>\n",
    "<ul>\n",
    "<li>US</li> \n",
    "<li>UK</li>\n",
    "<li>Dubai</li>\n",
    "<li>Africa</li>\n",
    "</ul>"
   ]
  },
  {
   "cell_type": "markdown",
   "metadata": {
    "collapsed": true,
    "slideshow": {
     "slide_type": "subslide"
    }
   },
   "source": [
    "<table style=\"width:100%\">\n",
    "  <tr>\n",
    "    <th>Location</th>\n",
    "    <th>URL</th> \n",
    "  </tr>\n",
    "  <tr>\n",
    "    <td>United States</td>\n",
    "    <td>http://www.data.gov\n",
    "    </td> \n",
    "\n",
    "  </tr>\n",
    "  <tr>\n",
    "    <td>United Kingdom</td>\n",
    "    <td>http://www.data.gov.uk \n",
    "    \n",
    "</td> \n",
    "\n",
    "  </tr>\n",
    "    <tr>\n",
    "    <td>Dubai</td>\n",
    "    <td>http://www.dm.gov.ae\n",
    "</td> \n",
    "\n",
    "  </tr>\n",
    "    <tr>\n",
    "    <td>Africa</td>\n",
    "    <td>http://opendataforafrica.org/</td> \n",
    "\n",
    "  </tr>\n",
    "</table>"
   ]
  },
  {
   "cell_type": "markdown",
   "metadata": {
    "slideshow": {
     "slide_type": "slide"
    }
   },
   "source": [
    "<h3>Corporate</h3>\n",
    "<ul>\n",
    "<li>Lending Club: Peer-to-peer lending marketplace</li> \n",
    "<li>World Bank</li>\n",
    "<li>Airbnb: User pathway challenge</li>\n",
    "</ul>"
   ]
  },
  {
   "cell_type": "markdown",
   "metadata": {
    "collapsed": true,
    "slideshow": {
     "slide_type": "subslide"
    }
   },
   "source": [
    "<table style=\"width:100%\">\n",
    "  <tr>\n",
    "    <th>Corporation</th>\n",
    "    <th>URL</th> \n",
    "  </tr>\n",
    "  <tr>\n",
    "    <td>Lending Club</td>\n",
    "    <td>https://www.lendingclub.com/info/download-data.action\n",
    "\n",
    "    </td> \n",
    "\n",
    "  </tr>\n",
    "  <tr>\n",
    "    <td>World Bank</td>\n",
    "    <td>http://data.worldbank.org/\n",
    "\n",
    "    \n",
    "</td> \n",
    "\n",
    "  </tr>\n",
    "    <tr>\n",
    "    <td>Airbnb</td>\n",
    "    <td>http://databits.io/challenges/airbnb-user-pathways-challenge\n",
    "\n",
    "</td> \n",
    "</table>"
   ]
  },
  {
   "cell_type": "markdown",
   "metadata": {
    "slideshow": {
     "slide_type": "slide"
    }
   },
   "source": [
    "<h3>APIs</h3>\n",
    "<ul>\n",
    "<li>Application Programming Interface</li> \n",
    "<li>Access and develop on sets of methods provided by entities</li>\n",
    "<li>Data directly into program</li>\n",
    "</ul>"
   ]
  },
  {
   "cell_type": "markdown",
   "metadata": {
    "slideshow": {
     "slide_type": "slide"
    }
   },
   "source": [
    "<h3>Which companies provide API access?</h3>\n",
    "<ul>\n",
    "<li>Facebook</li> \n",
    "<li>Twitter</li>\n",
    "<li>Quandl</li>\n",
    "</ul>"
   ]
  },
  {
   "cell_type": "markdown",
   "metadata": {
    "slideshow": {
     "slide_type": "slide"
    }
   },
   "source": [
    "<h3>Access Quandl API</h3>"
   ]
  },
  {
   "cell_type": "code",
   "execution_count": 5,
   "metadata": {
    "collapsed": false,
    "slideshow": {
     "slide_type": "fragment"
    }
   },
   "outputs": [],
   "source": [
    "import quandl"
   ]
  },
  {
   "cell_type": "code",
   "execution_count": 6,
   "metadata": {
    "collapsed": true,
    "slideshow": {
     "slide_type": "fragment"
    }
   },
   "outputs": [],
   "source": [
    "data = quandl.get('NSE/OIL')"
   ]
  },
  {
   "cell_type": "code",
   "execution_count": 7,
   "metadata": {
    "collapsed": false,
    "slideshow": {
     "slide_type": "slide"
    }
   },
   "outputs": [
    {
     "data": {
      "text/html": [
       "<div style=\"max-height:1000px;max-width:1500px;overflow:auto;\">\n",
       "<table border=\"1\" class=\"dataframe\">\n",
       "  <thead>\n",
       "    <tr style=\"text-align: right;\">\n",
       "      <th></th>\n",
       "      <th>Open</th>\n",
       "      <th>High</th>\n",
       "      <th>Low</th>\n",
       "      <th>Last</th>\n",
       "      <th>Close</th>\n",
       "      <th>Total Trade Quantity</th>\n",
       "      <th>Turnover (Lacs)</th>\n",
       "    </tr>\n",
       "    <tr>\n",
       "      <th>Date</th>\n",
       "      <th></th>\n",
       "      <th></th>\n",
       "      <th></th>\n",
       "      <th></th>\n",
       "      <th></th>\n",
       "      <th></th>\n",
       "      <th></th>\n",
       "    </tr>\n",
       "  </thead>\n",
       "  <tbody>\n",
       "    <tr>\n",
       "      <th>2009-09-30</th>\n",
       "      <td>1096.0</td>\n",
       "      <td>1156.7</td>\n",
       "      <td>1090.0</td>\n",
       "      <td>1135.00</td>\n",
       "      <td>1141.20</td>\n",
       "      <td>19748012</td>\n",
       "      <td>223877.07</td>\n",
       "    </tr>\n",
       "    <tr>\n",
       "      <th>2009-10-01</th>\n",
       "      <td>1102.0</td>\n",
       "      <td>1173.7</td>\n",
       "      <td>1102.0</td>\n",
       "      <td>1167.00</td>\n",
       "      <td>1166.35</td>\n",
       "      <td>3074254</td>\n",
       "      <td>35463.78</td>\n",
       "    </tr>\n",
       "    <tr>\n",
       "      <th>2009-10-05</th>\n",
       "      <td>1152.0</td>\n",
       "      <td>1165.9</td>\n",
       "      <td>1136.6</td>\n",
       "      <td>1143.00</td>\n",
       "      <td>1140.55</td>\n",
       "      <td>919832</td>\n",
       "      <td>10581.13</td>\n",
       "    </tr>\n",
       "    <tr>\n",
       "      <th>2009-10-06</th>\n",
       "      <td>1149.8</td>\n",
       "      <td>1157.2</td>\n",
       "      <td>1132.1</td>\n",
       "      <td>1143.30</td>\n",
       "      <td>1144.90</td>\n",
       "      <td>627957</td>\n",
       "      <td>7185.90</td>\n",
       "    </tr>\n",
       "    <tr>\n",
       "      <th>2009-10-07</th>\n",
       "      <td>1153.8</td>\n",
       "      <td>1160.7</td>\n",
       "      <td>1140.0</td>\n",
       "      <td>1141.45</td>\n",
       "      <td>1141.60</td>\n",
       "      <td>698216</td>\n",
       "      <td>8032.98</td>\n",
       "    </tr>\n",
       "  </tbody>\n",
       "</table>\n",
       "</div>"
      ],
      "text/plain": [
       "              Open    High     Low     Last    Close  Total Trade Quantity  \\\n",
       "Date                                                                         \n",
       "2009-09-30  1096.0  1156.7  1090.0  1135.00  1141.20              19748012   \n",
       "2009-10-01  1102.0  1173.7  1102.0  1167.00  1166.35               3074254   \n",
       "2009-10-05  1152.0  1165.9  1136.6  1143.00  1140.55                919832   \n",
       "2009-10-06  1149.8  1157.2  1132.1  1143.30  1144.90                627957   \n",
       "2009-10-07  1153.8  1160.7  1140.0  1141.45  1141.60                698216   \n",
       "\n",
       "            Turnover (Lacs)  \n",
       "Date                         \n",
       "2009-09-30        223877.07  \n",
       "2009-10-01         35463.78  \n",
       "2009-10-05         10581.13  \n",
       "2009-10-06          7185.90  \n",
       "2009-10-07          8032.98  "
      ]
     },
     "execution_count": 7,
     "metadata": {},
     "output_type": "execute_result"
    }
   ],
   "source": [
    "data.head()"
   ]
  },
  {
   "cell_type": "markdown",
   "metadata": {
    "slideshow": {
     "slide_type": "slide"
    }
   },
   "source": [
    "<h3>Web Scraping</h3>\n",
    "<ul>\n",
    "<li>Not all data is readily accessible </li> \n",
    "<li>Scraping may work when APIs don't exist</li>\n",
    "<li>Tools to look into: Python, R, Bash, PHP</li>\n",
    "<li>Take note of copyright and confidentiality</li>\n",
    "</ul>"
   ]
  },
  {
   "cell_type": "markdown",
   "metadata": {
    "slideshow": {
     "slide_type": "slide"
    }
   },
   "source": [
    "<h3>Creating Data</h3>\n",
    "<ul>\n",
    "<li>Interviews</li> \n",
    "<ul>\n",
    "<li>Structured vs. Unstructured data</li>\n",
    "</ul>\n",
    "<li>Surveys</li>\n",
    "<ul>\n",
    "<li>Scalable with various tools</li>\n",
    "<li>Sampling bias, wording</li>\n",
    "</ul>\n",
    "</ul>"
   ]
  },
  {
   "cell_type": "markdown",
   "metadata": {
    "slideshow": {
     "slide_type": "slide"
    }
   },
   "source": [
    "<h3>Data Cleaning</h3>\n",
    "<ul>\n",
    "<li>OpenRefine</li> \n",
    "<ul>\n",
    "<li>Easy to use</li>\n",
    "<li>Most basic operations can be completed with the interface</li>\n",
    "</ul>\n",
    "<li>Google Sheets</li>\n",
    "<ul>\n",
    "<li>Clean data through Google App Scripts</li>\n",
    "<li>Slow but intuitive if familiar with javascript</li>\n",
    "</ul>\n",
    "</ul>"
   ]
  },
  {
   "cell_type": "markdown",
   "metadata": {
    "slideshow": {
     "slide_type": "slide"
    }
   },
   "source": [
    "<h3>Group Activity</h3>\n",
    "<h4>In groups of 3 to 5, find a dataset and come up with an interesting question to answer.</h4>\n"
   ]
  },
  {
   "cell_type": "markdown",
   "metadata": {
    "slideshow": {
     "slide_type": "slide"
    }
   },
   "source": [
    "<h3>Announcements</h3>\n",
    "<h4>Blog Posts</h4>\n",
    "<ul>\n",
    "<li>Groups of 1 to 3</li>\n",
    "<li>Short summaries</li>\n",
    "</ul>\n"
   ]
  },
  {
   "cell_type": "code",
   "execution_count": null,
   "metadata": {
    "collapsed": true,
    "slideshow": {
     "slide_type": "skip"
    }
   },
   "outputs": [],
   "source": []
  }
 ],
 "metadata": {
  "celltoolbar": "Slideshow",
  "kernelspec": {
   "display_name": "Python 2",
   "language": "python",
   "name": "python2"
  },
  "language_info": {
   "codemirror_mode": {
    "name": "ipython",
    "version": 2
   },
   "file_extension": ".py",
   "mimetype": "text/x-python",
   "name": "python",
   "nbconvert_exporter": "python",
   "pygments_lexer": "ipython2",
   "version": "2.7.11"
  }
 },
 "nbformat": 4,
 "nbformat_minor": 0
}
